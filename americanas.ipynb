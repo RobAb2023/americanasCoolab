{
  "nbformat": 4,
  "nbformat_minor": 0,
  "metadata": {
    "colab": {
      "provenance": [],
      "mount_file_id": "1dguB1ljXc51iSwMEHTrQ2DRXFuDoeB7z",
      "authorship_tag": "ABX9TyPyi8KOeWZMOgGtKDdAmpW1",
      "include_colab_link": true
    },
    "kernelspec": {
      "name": "python3",
      "display_name": "Python 3"
    },
    "language_info": {
      "name": "python"
    }
  },
  "cells": [
    {
      "cell_type": "markdown",
      "metadata": {
        "id": "view-in-github",
        "colab_type": "text"
      },
      "source": [
        "<a href=\"https://colab.research.google.com/github/RobAb2023/americanasCoolab/blob/main/americanas.ipynb\" target=\"_parent\"><img src=\"https://colab.research.google.com/assets/colab-badge.svg\" alt=\"Open In Colab\"/></a>"
      ]
    },
    {
      "cell_type": "code",
      "source": [
        "#!pip install pandas requests\n"
      ],
      "metadata": {
        "id": "GlkM9Mwk80jZ"
      },
      "execution_count": 22,
      "outputs": []
    },
    {
      "cell_type": "code",
      "source": [
        "import csv\n",
        "import numpy as np\n",
        "import pandas as pd\n",
        "import requests"
      ],
      "metadata": {
        "id": "pLuhfyaD81xT"
      },
      "execution_count": 23,
      "outputs": []
    },
    {
      "cell_type": "code",
      "source": [
        "cabecalho = None\n",
        "primeira_linha = None\n",
        "\n",
        "#abrindo arquivo modo leitura\n",
        "with open(\"/content/drive/MyDrive/Colab Notebooks/B2W-Reviews01.csv\", \"r\") as file:\n",
        "  leitor_csv = csv.reader(file)\n",
        "\n",
        "  cabecalho = next(leitor_csv)\n",
        "  primeira_linha = next(leitor_csv)\n",
        "\n",
        "print(cabecalho)\n",
        "print(primeira_linha)\n",
        "\n"
      ],
      "metadata": {
        "colab": {
          "base_uri": "https://localhost:8080/"
        },
        "id": "6a_0vhHA9FZI",
        "outputId": "1bc1fc0d-f022-4e27-8a81-12b435f74567"
      },
      "execution_count": 32,
      "outputs": [
        {
          "output_type": "stream",
          "name": "stdout",
          "text": [
            "['submission_date', 'reviewer_id', 'product_id', 'product_name', 'product_brand', 'site_category_lv1', 'site_category_lv2', 'review_title', 'overall_rating', 'recommend_to_a_friend', 'review_text', 'reviewer_birth_year', 'reviewer_gender', 'reviewer_state']\n",
            "['2018-01-01 00:11:28', 'd0fb1ca69422530334178f5c8624aa7a99da47907c44de0243719b15d50623ce', '132532965', 'Notebook Asus Vivobook Max X541NA-GO472T Intel Celeron Quad Core 4GB 500GB Tela LED 15,6\" Windows - 10 Branco', '', 'Informática', 'Notebook', 'Bom', '4', 'Yes', 'Estou contente com a compra entrega rápida o único problema com as Americanas é se houver troca ou devolução do produto o consumidor tem problemas com espera.', '1958.0', 'F', 'RJ']\n"
          ]
        }
      ]
    },
    {
      "cell_type": "code",
      "source": [],
      "metadata": {
        "id": "OTkdRy5VA8Jl"
      },
      "execution_count": null,
      "outputs": []
    }
  ]
}